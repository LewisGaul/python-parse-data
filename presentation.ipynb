{
 "cells": [
  {
   "cell_type": "markdown",
   "metadata": {
    "slideshow": {
     "slide_type": "slide"
    }
   },
   "source": [
    "# Python Abuse\n",
    "\n",
    "### August 2021\n",
    "\n",
    "### Lewis Gaul"
   ]
  },
  {
   "cell_type": "code",
   "execution_count": null,
   "metadata": {
    "slideshow": {
     "slide_type": "skip"
    }
   },
   "outputs": [],
   "source": [
    "# SETUP\n",
    "\n",
    "import inspect\n",
    "import logging\n",
    "import yaml\n",
    "from pprint import pprint\n",
    "\n",
    "def send_email(to, msg):\n",
    "    logging.warning(f\"Sending email to {to!r}...\")"
   ]
  },
  {
   "cell_type": "code",
   "execution_count": null,
   "metadata": {
    "slideshow": {
     "slide_type": "skip"
    }
   },
   "outputs": [],
   "source": []
  },
  {
   "cell_type": "markdown",
   "metadata": {
    "slideshow": {
     "slide_type": "slide"
    }
   },
   "source": [
    "## Operator overloading"
   ]
  },
  {
   "cell_type": "markdown",
   "metadata": {
    "slideshow": {
     "slide_type": "fragment"
    }
   },
   "source": [
    "It's possible to overload any of:\n",
    "  +, -, *, @, /, //, %, **, <<, >>, &, ^, |, >, <, ==\n",
    "\n",
    "or any of these followed by '=' (except '=='). Can also overload keyword behaviour, such as 'in'."
   ]
  },
  {
   "cell_type": "code",
   "execution_count": null,
   "metadata": {
    "slideshow": {
     "slide_type": "subslide"
    }
   },
   "outputs": [],
   "source": [
    "class Functional:\n",
    "    def __init__(self):\n",
    "        self.funcs = []\n",
    "    def __matmul__(self, other):\n",
    "        self.funcs.clear()\n",
    "        self.funcs.append(other)\n",
    "        return self\n",
    "    def __rshift__(self, other):\n",
    "        self.funcs.append(other)\n",
    "        return self\n",
    "    def __le__(self, other):\n",
    "        result = other\n",
    "        for f in self.funcs:\n",
    "            result = f(result)\n",
    "        return result\n",
    "    \n",
    "_ = Functional()"
   ]
  },
  {
   "cell_type": "code",
   "execution_count": null,
   "metadata": {
    "slideshow": {
     "slide_type": "fragment"
    }
   },
   "outputs": [],
   "source": [
    "square = lambda x: x * x\n",
    "make_add = lambda n: (lambda x: x + n)\n",
    "add1 = make_add(1)\n",
    "\n",
    "result = _@ add1 >> square >> make_add(10)  <= -2\n",
    "print(f\"{result = }\")\n",
    "\n",
    "mycalc = _@ (lambda x: 2*x + 1) >> square\n",
    "print(f\"{(mycalc <= 1) = }\")"
   ]
  },
  {
   "cell_type": "code",
   "execution_count": null,
   "metadata": {
    "slideshow": {
     "slide_type": "skip"
    }
   },
   "outputs": [],
   "source": []
  },
  {
   "cell_type": "markdown",
   "metadata": {
    "slideshow": {
     "slide_type": "slide"
    }
   },
   "source": [
    "## Decorators"
   ]
  },
  {
   "cell_type": "markdown",
   "metadata": {
    "slideshow": {
     "slide_type": "fragment"
    }
   },
   "source": [
    "Decorators run at function *definition* time - may have side effects even if the decorated function isn't called.\n",
    "\n",
    "They also overwrite the object stored in the function's name (not necessarily a function!)."
   ]
  },
  {
   "cell_type": "code",
   "execution_count": null,
   "metadata": {
    "slideshow": {
     "slide_type": "subslide"
    }
   },
   "outputs": [],
   "source": [
    "def decorator(func):\n",
    "    global dr\n",
    "    import data_reader as dr\n",
    "    send_email(to=\"ensoft-all@cisco.com\", msg=\"Decorator ran :)\")\n",
    "    with open(func.__name__ + \".yaml\") as f:\n",
    "        return dr.parse_data(schema=func(), node=yaml.safe_load(f))"
   ]
  },
  {
   "cell_type": "code",
   "execution_count": null,
   "metadata": {
    "slideshow": {
     "slide_type": "fragment"
    }
   },
   "outputs": [],
   "source": [
    "@decorator\n",
    "def int_val():\n",
    "    return dr.Int"
   ]
  },
  {
   "cell_type": "code",
   "execution_count": null,
   "metadata": {
    "slideshow": {
     "slide_type": "fragment"
    }
   },
   "outputs": [],
   "source": [
    "!cat int_val.yaml"
   ]
  },
  {
   "cell_type": "code",
   "execution_count": null,
   "metadata": {
    "slideshow": {
     "slide_type": "fragment"
    }
   },
   "outputs": [],
   "source": [
    "print(int_val)\n",
    "print(mycalc <= int_val)"
   ]
  },
  {
   "cell_type": "code",
   "execution_count": null,
   "metadata": {
    "slideshow": {
     "slide_type": "skip"
    }
   },
   "outputs": [],
   "source": []
  },
  {
   "cell_type": "markdown",
   "metadata": {
    "slideshow": {
     "slide_type": "slide"
    }
   },
   "source": [
    "## Metaclasses"
   ]
  },
  {
   "cell_type": "markdown",
   "metadata": {
    "slideshow": {
     "slide_type": "fragment"
    }
   },
   "source": [
    "Define behaviour of classes... Probably the most powerful tool in the Python toolbox :)"
   ]
  },
  {
   "cell_type": "code",
   "execution_count": null,
   "metadata": {
    "slideshow": {
     "slide_type": "subslide"
    }
   },
   "outputs": [],
   "source": [
    "class MyMeta(type):\n",
    "    def __new__(mcs, name, bases, attrs):\n",
    "        for name, value in attrs.items():\n",
    "            if inspect.isfunction(value):\n",
    "                attrs[name] = decorator(value)\n",
    "        return super().__new__(mcs, name, bases, attrs)"
   ]
  },
  {
   "cell_type": "code",
   "execution_count": null,
   "metadata": {
    "slideshow": {
     "slide_type": "fragment"
    }
   },
   "outputs": [],
   "source": [
    "class MyClass(metaclass=MyMeta):\n",
    "    def my_data():\n",
    "        return dr.List(\n",
    "            dr.UserClass[\"Entry\"](\n",
    "                name=dr.Str.restrict(max_len=20),\n",
    "                link=dr.Str.restrict(regex=\"https?://.+\") | None,\n",
    "                runs_on=dr.List(\n",
    "                    dr.UserEnum[\"RunsOn\"](\"server\", \"local\", \"web\")\n",
    "                ),\n",
    "                maintained=dr.Bool,\n",
    "            ).defaults(link=None, runs_on=list, maintained=True)\n",
    "        )"
   ]
  },
  {
   "cell_type": "code",
   "execution_count": null,
   "metadata": {
    "slideshow": {
     "slide_type": "fragment"
    }
   },
   "outputs": [],
   "source": [
    "!cat my_data.yaml"
   ]
  },
  {
   "cell_type": "code",
   "execution_count": null,
   "metadata": {
    "slideshow": {
     "slide_type": "fragment"
    }
   },
   "outputs": [],
   "source": [
    "pprint(MyClass.my_data)"
   ]
  },
  {
   "cell_type": "code",
   "execution_count": null,
   "metadata": {
    "slideshow": {
     "slide_type": "skip"
    }
   },
   "outputs": [],
   "source": []
  }
 ],
 "metadata": {
  "celltoolbar": "Slideshow",
  "kernelspec": {
   "display_name": "Python 3 (ipykernel)",
   "language": "python",
   "name": "python3"
  },
  "language_info": {
   "codemirror_mode": {
    "name": "ipython",
    "version": 3
   },
   "file_extension": ".py",
   "mimetype": "text/x-python",
   "name": "python",
   "nbconvert_exporter": "python",
   "pygments_lexer": "ipython3",
   "version": "3.10.0rc1"
  }
 },
 "nbformat": 4,
 "nbformat_minor": 2
}
